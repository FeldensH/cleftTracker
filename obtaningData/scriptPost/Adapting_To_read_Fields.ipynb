{
 "cells": [
  {
   "cell_type": "code",
   "execution_count": 6,
   "metadata": {},
   "outputs": [],
   "source": [
    "import matplotlib as m\n",
    "import matplotlib.pyplot as plt\n",
    "import numpy as np\n",
    "import re\n",
    "import os\n",
    "\n",
    "### the following imports are there solely for debuging purposes\n",
    "import pprint\n",
    "from sys import exit\n",
    "###\n",
    "\n",
    "\n",
    "plt.rc('text', usetex=True)\n",
    "plt.rc('font', family='Linux Libertine O')\n",
    "\n",
    "cdict = {\n",
    "    'red'  : ((0.000000, 0.278431, 0.278431), (0.143000, 0.000000, 0.000000), (0.285000, 0.000000, 0.000000), (0.429000, 0.000000, 0.000000), (0.571000, 1.000000, 1.000000), (0.714000, 1.000000, 1.000000), (0.857000, 0.419608, 0.419608), (1.000000, 0.878431, 0.878431)),\n",
    "    'green': ((0.000000, 0.278431, 0.278431), (0.143000, 0.000000, 0.000000), (0.285000, 1.000000, 1.000000), (0.429000, 0.501961, 0.501961), (0.571000, 1.000000, 1.000000), (0.714000, 0.380392, 0.380392), (0.857000, 0.000000, 0.000000), (1.000000, 0.301961, 0.301961)),\n",
    "    'blue' : ((0.000000, 0.858824, 0.858824), (0.143000, 0.360784, 0.360784), (0.285000, 1.000000, 1.000000), (0.429000, 0.000000, 0.000000), (0.571000, 0.000000, 0.000000), (0.714000, 0.000000, 0.000000), (0.857000, 0.000000, 0.000000), (1.000000, 0.301961, 0.301961))}\n",
    "\n",
    "cm = m.colors.LinearSegmentedColormap('my_colormap', cdict, 1024)"
   ]
  },
  {
   "cell_type": "code",
   "execution_count": null,
   "metadata": {},
   "outputs": [],
   "source": []
  }
 ],
 "metadata": {
  "kernelspec": {
   "display_name": "Python (opencv+postgres)",
   "language": "python",
   "name": "opencv_pg"
  },
  "language_info": {
   "codemirror_mode": {
    "name": "ipython",
    "version": 3
   },
   "file_extension": ".py",
   "mimetype": "text/x-python",
   "name": "python",
   "nbconvert_exporter": "python",
   "pygments_lexer": "ipython3",
   "version": "3.6.8"
  }
 },
 "nbformat": 4,
 "nbformat_minor": 4
}
